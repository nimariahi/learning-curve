{
 "cells": [
  {
   "cell_type": "markdown",
   "metadata": {
    "deletable": true,
    "editable": true
   },
   "source": [
    "# Learning curve demo\n",
    "\n",
    "_Nima Riahi, 2017-04-23_\n",
    "\n",
    "Illustrate the learning-curve concept using simulated data.\n",
    "\n",
    "A random data generation mechanism is defined (allowing linear and polynomial dependency) and the model training and test performance is computed for different training set sizes. Different model types can be investigated:\n",
    "\n",
    "- OLS linear regression\n",
    "- support vector regression\n",
    "- decision tree regression\n",
    "\n",
    "Particular didactic value arises from comparing learning curves for the OLS linear regressor for simulated data with linear versus non-linear dependency.\n",
    "\n",
    "The first few cells define functionality. The second-last code cell is for playing around :-)\n"
   ]
  },
  {
   "cell_type": "markdown",
   "metadata": {
    "deletable": true,
    "editable": true
   },
   "source": [
    "## Define source mechanism\n",
    "\n",
    "The source mechanism is defined. It takes a set of input variabes (columns in a matrix), here simulated as random iid gaussian signals, and transforms them linearly or non-linearly into a scalar target signal.\n",
    "\n",
    "Also, an RMS function is defined."
   ]
  },
  {
   "cell_type": "code",
   "execution_count": 44,
   "metadata": {
    "collapsed": true,
    "deletable": true,
    "editable": true
   },
   "outputs": [],
   "source": [
    "import numpy as np\n",
    "from matplotlib import pyplot as plt\n",
    "\n",
    "from sklearn.svm import SVR\n",
    "from sklearn import linear_model\n",
    "from sklearn.model_selection import cross_val_predict\n",
    "import matplotlib.pyplot as plt\n",
    "\n",
    "from sklearn.model_selection import train_test_split\n",
    "from sklearn.model_selection import GridSearchCV\n",
    "from sklearn.metrics import classification_report\n",
    "\n",
    "from sklearn.tree import DecisionTreeRegressor\n",
    "\n",
    "\n",
    "def source(X, nonlins=None, sd_noise=0.5):\n",
    "    \"\"\"\n",
    "    \n",
    "    Generate data by transforming some input signal\n",
    "    \n",
    "    @param X (N,p) Input signals, e.g. zero mean gaussian columns\n",
    "    @param sourceParams (p,) parameters of source. Signal column 'i' is raised \n",
    "        to the power sourceParams[i]. An array of all ones defines a linear model\n",
    "    @param sd_noise Standard dev. of noise on output\n",
    "    \n",
    "    \"\"\"\n",
    "    \n",
    "    if nonlins is None:\n",
    "        nonlins = np.ones(X.shape[1])\n",
    "            \n",
    "    y = np.zeros((X.shape[0],1))\n",
    "    for i in np.arange(len(nonlins)):\n",
    "        y = y + np.power(X[:,i,np.newaxis],nonlins[i])\n",
    "        \n",
    "    # Add noise\n",
    "    y = y + np.random.randn(y.shape[0],y.shape[1])*sd_noise\n",
    "\n",
    "    return(y)\n",
    "\n",
    "\n",
    "def rms(x):\n",
    "    return(np.sqrt(np.mean(np.power(x,2))))\n",
    "\n"
   ]
  },
  {
   "cell_type": "markdown",
   "metadata": {
    "deletable": true,
    "editable": true
   },
   "source": [
    "## Find best paramters for model\n",
    "\n",
    "Using the built-in cross-validation mechanisms from `sklearn`. Not applicable for linear regressor."
   ]
  },
  {
   "cell_type": "code",
   "execution_count": 2,
   "metadata": {
    "collapsed": false,
    "deletable": true,
    "editable": true
   },
   "outputs": [
    {
     "name": "stdout",
     "output_type": "stream",
     "text": [
      "{'max_depth': 10}\n"
     ]
    }
   ],
   "source": [
    "\n",
    "# Simulate data for model parameter estimation\n",
    "nonlins = np.array([1,1,1,1])\n",
    "N = 10000  # Number of data samples\n",
    "\n",
    "X = np.random.randn(N, len(nonlins))\n",
    "y = source( X , nonlins=nonlins, sd_noise=0.5)\n",
    "\n",
    "## Split the dataset in two equal parts\n",
    "#X_train, X_test, y_train, y_test = train_test_split(\n",
    "#    X, y, test_size=0.5, random_state=0)\n",
    "\n",
    "# # Parameter tuning for Support Vector Regressor\n",
    "# param_grid = [\n",
    "#   {'C': [1, 100, 300], 'kernel': ['rbf']}]\n",
    "# \n",
    "# clf = GridSearchCV(SVR(C=1), param_grid, cv=5)\n",
    "# clf.fit(X, y)\n",
    "\n",
    "\n",
    "# Same same but for decision trees\n",
    "param_grid = [\n",
    "  {'max_depth': [2,3,4,5,6,7,8,9,10]}]\n",
    "\n",
    "clf = GridSearchCV(DecisionTreeRegressor(), param_grid, cv=5)\n",
    "clf.fit(X, y)\n",
    "\n",
    "print(clf.best_params_)\n",
    "\n",
    "# clf.get_params()\n"
   ]
  },
  {
   "cell_type": "markdown",
   "metadata": {
    "deletable": true,
    "editable": true
   },
   "source": [
    "## Compute fit performance for various training set sizes\n",
    "\n",
    "Estimate training and test error for various training set sizes. At each of these training set sized the errors are computed over `B` repetitions. The test set size is held fix (`ntest`).\n",
    "\n",
    "The procedure to compute the learning curve is encapsulated into the function `LearningCurve`.\n",
    "\n",
    "### Define Learning Curve function\n"
   ]
  },
  {
   "cell_type": "code",
   "execution_count": 3,
   "metadata": {
    "collapsed": true,
    "deletable": true,
    "editable": true
   },
   "outputs": [],
   "source": [
    "from sklearn.svm import SVR\n",
    "from sklearn import linear_model\n",
    "from sklearn.tree import DecisionTreeRegressor\n",
    "\n",
    "from sklearn.model_selection import cross_val_predict\n",
    "\n",
    "\n",
    "def learningCurve(M, ntrain_vec, ntest, B, source=None, nonlins=None):\n",
    "    \"\"\"\n",
    "    Compute the learning curve for a given model. \n",
    "    \n",
    "    @param M The learning model (e.g. linear regression, SVR, decision tree)\n",
    "    @param ntrain_vec A vector containing the training set sizes (should be monotonically \n",
    "        increasing)\n",
    "    @param ntest The test set size\n",
    "    @param B Repetitions per training set size (to stabilize train/test error estimation)\n",
    "    @param source Source (function): y = source(X, sourceParams)\n",
    "    @param nonlins Source parameters (dict)\n",
    "    \n",
    "    \"\"\"\n",
    "\n",
    "    # Preallocate test/train error vectors\n",
    "    testerr = np.zeros(len(ntrain_vec), dtype='float')\n",
    "    trainerr = np.zeros(len(ntrain_vec), dtype='float')\n",
    "\n",
    "    # Loop over training set sizes\n",
    "    for i,ntrain in zip(np.arange(len(ntrain_vec)),ntrain_vec):\n",
    "\n",
    "        # For each training set size perform B runs and compute mean RMS of error\n",
    "        # First: preallocate variables for the train/test errors of the B runs\n",
    "        testerrB = np.zeros(B, dtype='float')\n",
    "        trainerrB = np.zeros(B, dtype='float')\n",
    "\n",
    "        # Loop over B runs\n",
    "        for k in np.arange(B):\n",
    "\n",
    "            # Simulate data\n",
    "            X = np.random.randn(ntrain+ntest, len(nonlins))\n",
    "            y = source( X , nonlins, sd_noise=0.5)\n",
    "\n",
    "            # Create train and test set\n",
    "            #perm = np.random.permutation(np.arange(ntrain+ntest))\n",
    "            #Xl = X[perm[0:ntrain],:]\n",
    "            #yl = y[perm[0:ntrain]]\n",
    "            #Xt = X[perm[ntrain:],:]\n",
    "            #yt = y[perm[ntrain:]]\n",
    "            Xtrain = X[0:ntrain,:]\n",
    "            ytrain = y[0:ntrain]\n",
    "            Xtest = X[ntrain:,:]\n",
    "            ytest = y[ntrain:]\n",
    "\n",
    "            \n",
    "            \n",
    "            # There's an odd effect here: if the model is first fit (M.fit()) and \n",
    "            # then a prediction is performed the results don't make sense (i.e. in \n",
    "            # the linear case the training error is about three times the noise std).\n",
    "            # The problem doesn't occur when chaining fitting and prediction (M.fit().predict())\n",
    "\n",
    "            ## Predict on test and learning data\n",
    "            #M.fit(Xl, yl.ravel())\n",
    "            #yl_ = M.predict(Xl)\n",
    "            #yt_ = M.predict(Xt)\n",
    "\n",
    "            # Predict on test and learning data\n",
    "            ytrain_ = M.fit(Xtrain,ytrain).predict(Xtrain)\n",
    "            ytest_ = M.fit(Xtrain,ytrain).predict(Xtest)\n",
    "\n",
    "            #ytrain_ = M.fit(Xtrain, ytrain).predict(ytrain)\n",
    "            #ytrain_ = M.predict(Xtrain)\n",
    "            #ytest_ = M.predict(Xtest)\n",
    "\n",
    "            # RMS errors\n",
    "            testerrB[k] = rms( ytest.ravel() - ytest_.ravel() )\n",
    "            trainerrB[k] = rms( ytrain.ravel() - ytrain_.ravel())\n",
    "\n",
    "\n",
    "        # RMS of test error\n",
    "        testerr[i] = np.mean(testerrB)\n",
    "        trainerr[i] = np.mean(trainerrB)\n",
    "\n",
    "    return({'testError':testerr, 'trainError':trainerr, 'ntrainVec':ntrain_vec})\n",
    "    \n",
    "    "
   ]
  },
  {
   "cell_type": "markdown",
   "metadata": {
    "deletable": true,
    "editable": true
   },
   "source": [
    "### Perform computations\n",
    "\n",
    "Perform actual computations using the function defined above. Most of the instructive parameters can be set here."
   ]
  },
  {
   "cell_type": "code",
   "execution_count": 42,
   "metadata": {
    "collapsed": false,
    "deletable": true,
    "editable": true
   },
   "outputs": [],
   "source": [
    "np.random.seed(3)\n",
    "\n",
    "# Number of samples to estimate train/test error for given training/test size\n",
    "B = 40\n",
    "\n",
    "# Testset size\n",
    "ntest = 100\n",
    "\n",
    "##############################\n",
    "# Training and test set sizes\n",
    "ntrain_vec = np.array([50,100,200,300])  # for SVR\n",
    "#ntrain_vec = np.arange(5,600,10)  # for decision tree example\n",
    "#ntrain_vec = np.arange(6,70,2)  # for linear regressor\n",
    "\n",
    "##############################\n",
    "# Define model class (linear, SVR, DecisionTree)\n",
    "#M = linear_model.LinearRegression(fit_intercept=True)\n",
    "M = SVR(kernel='rbf', \n",
    "        gamma='auto', coef0=0.0, \n",
    "        tol=0.001, \n",
    "        C=100., epsilon=0.1, shrinking=True, \n",
    "        cache_size=200)\n",
    "#M = DecisionTreeRegressor(max_depth=5)\n",
    "\n",
    "\n",
    "##############################\n",
    "# Compute training and test errors\n",
    "# \n",
    "trainCurve = learningCurve(M, ntrain_vec, ntest, B, source=source, nonlins=[1,1,1,1])\n",
    "\n"
   ]
  },
  {
   "cell_type": "code",
   "execution_count": 43,
   "metadata": {
    "collapsed": false,
    "deletable": true,
    "editable": true
   },
   "outputs": [
    {
     "data": {
      "image/png": "[encoded data removed]",
      "text/plain": [
       "<matplotlib.figure.Figure at 0x11c579b10>"
      ]
     },
     "metadata": {},
     "output_type": "display_data"
    }
   ],
   "source": [
    "# Plot learning curve\n",
    "# For linear regressor and linear source function the sill of the lines should approach 'sd_noise'\n",
    "\n",
    "plt.cla()\n",
    "plt.plot(trainCurve['ntrainVec'], trainCurve['testError'],'-', color='red')\n",
    "plt.plot(trainCurve['ntrainVec'], trainCurve['trainError'],'-', color='green')\n",
    "plt.legend(['Test err','Train err'])\n",
    "plt.xlabel('N train')\n",
    "plt.ylabel('RMSE')\n",
    "plt.title(type(M))\n",
    "plt.show()\n"
   ]
  },
  {
   "cell_type": "code",
   "execution_count": null,
   "metadata": {
    "collapsed": true,
    "deletable": true,
    "editable": true
   },
   "outputs": [],
   "source": []
  }
 ],
 "metadata": {
  "kernelspec": {
   "display_name": "Python 2",
   "language": "python",
   "name": "python2"
  },
  "language_info": {
   "codemirror_mode": {
    "name": "ipython",
    "version": 2
   },
   "file_extension": ".py",
   "mimetype": "text/x-python",
   "name": "python",
   "nbconvert_exporter": "python",
   "pygments_lexer": "ipython2",
   "version": "2.7.13"
  }
 },
 "nbformat": 4,
 "nbformat_minor": 2
}
